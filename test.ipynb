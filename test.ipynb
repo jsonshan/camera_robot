{
 "cells": [
  {
   "cell_type": "code",
   "execution_count": 2,
   "metadata": {},
   "outputs": [
    {
     "name": "stderr",
     "output_type": "stream",
     "text": [
      "2025-01-30 22:08:53.129553: I tensorflow/tsl/cuda/cudart_stub.cc:28] Could not find cuda drivers on your machine, GPU will not be used.\n",
      "2025-01-30 22:08:53.173328: I tensorflow/tsl/cuda/cudart_stub.cc:28] Could not find cuda drivers on your machine, GPU will not be used.\n",
      "2025-01-30 22:08:53.179875: I tensorflow/core/platform/cpu_feature_guard.cc:182] This TensorFlow binary is optimized to use available CPU instructions in performance-critical operations.\n",
      "To enable the following instructions: AVX2 FMA, in other operations, rebuild TensorFlow with the appropriate compiler flags.\n",
      "2025-01-30 22:08:54.080836: W tensorflow/compiler/tf2tensorrt/utils/py_utils.cc:38] TF-TRT Warning: Could not find TensorRT\n"
     ]
    }
   ],
   "source": [
    "import cv2\n",
    "from deepface import DeepFace\n",
    "import time\n",
    "from collections import defaultdict"
   ]
  },
  {
   "cell_type": "code",
   "execution_count": 2,
   "metadata": {},
   "outputs": [
    {
     "data": {
      "text/plain": [
       "True"
      ]
     },
     "execution_count": 2,
     "metadata": {},
     "output_type": "execute_result"
    }
   ],
   "source": [
    "cap = cv2.VideoCapture('/dev/video0')\n",
    "\n",
    "ret, frame = cap.read()\n",
    "ret\n"
   ]
  },
  {
   "cell_type": "code",
   "execution_count": 9,
   "metadata": {},
   "outputs": [],
   "source": [
    "def timedCameraRecognition(duration, showRectangle=False):\n",
    "    \n",
    "    \n",
    "    # Dictionary that saves all the emotion data\n",
    "    emotionMap = defaultdict(int)\n",
    "    \n",
    "    if showRectangle:\n",
    "        # Load pre-trained models for face detection\n",
    "        faceCascade = cv2.CascadeClassifier(cv2.data.haarcascades + 'haarcascade_frontalface_default.xml')\n",
    "\n",
    "    # Open webcam\n",
    "    cap = cv2.VideoCapture('/dev/video0')\n",
    "\n",
    "    \n",
    "    # Run the while loop for a finite amount of time\n",
    "    # Current time - start time = time elapsed\n",
    "    startTime = time.time()\n",
    "    while time.time() - startTime < duration:\n",
    "        # Capture a frame from webcam\n",
    "        ret, frame = cap.read()\n",
    "        if not ret:\n",
    "            break\n",
    "\n",
    "        # Run some preprocessing on the frame image\n",
    "        # frame = preprocessImage(frame)\n",
    "\n",
    "        # Run DeepFace emotion analysis on frame\n",
    "        try:\n",
    "            emotion = DeepFace.analyze(frame, actions='emotion')\n",
    "            dominantEmotion = emotion[0]['dominant_emotion']\n",
    "            emotionMap[dominantEmotion] += 1\n",
    "        except:\n",
    "            pass #skip if face not detected\n",
    "\n",
    "        if showRectangle:\n",
    "            # Draw rectangle around the face\n",
    "            gray = cv2.cvtColor(frame, cv2.COLOR_BGR2GRAY)\n",
    "            faces = faceCascade.detectMultiScale(gray, 1.1, 4)\n",
    "            for (x,y,w,h) in faces:\n",
    "                cv2.rectangle(frame, (x,y), (x+w, y+h), (0,255,0), 2)\n",
    "            \n",
    "            # Add text to webcam video\n",
    "            font = cv2.FONT_HERSHEY_SIMPLEX\n",
    "            try:\n",
    "                cv2.putText(frame, dominantEmotion, (50,50), font, 3, (0,0,255), 2, cv2.LINE_4)\n",
    "            except:\n",
    "                pass #skip if face not detected\n",
    "            \n",
    "\n",
    "        # Display the resulting frame\n",
    "        cv2.imshow(\"Emotion Detection\", frame)\n",
    "        \n",
    "        # Exit if 'q' is pressed\n",
    "        if cv2.waitKey(1) & 0xFF == ord('q'):\n",
    "            break\n",
    "\n",
    "    # Release the capture\n",
    "    cap.release()\n",
    "    cv2.destroyAllWindows()\n",
    "\n",
    "    # Save the most frequent emotion from the dictionary to finalEmotion -> Represents the emotion used for robot movement\n",
    "    sortedEmotionMap = sorted(emotionMap.items(), reverse=True, key=lambda x:x[1])\n",
    "    finalEmotion = sortedEmotionMap[0][0]\n",
    "    print(emotionMap)\n",
    "    print(\"Most Frequent Emotion: \" + finalEmotion)\n",
    "    return finalEmotion"
   ]
  },
  {
   "cell_type": "code",
   "execution_count": 4,
   "metadata": {},
   "outputs": [
    {
     "ename": "NameError",
     "evalue": "name 'cap' is not defined",
     "output_type": "error",
     "traceback": [
      "\u001b[0;31m---------------------------------------------------------------------------\u001b[0m",
      "\u001b[0;31mNameError\u001b[0m                                 Traceback (most recent call last)",
      "Cell \u001b[0;32mIn[4], line 1\u001b[0m\n\u001b[0;32m----> 1\u001b[0m \u001b[38;5;28;01mif\u001b[39;00m \u001b[38;5;129;01mnot\u001b[39;00m \u001b[43mcap\u001b[49m\u001b[38;5;241m.\u001b[39misOpened():\n\u001b[1;32m      2\u001b[0m     \u001b[38;5;28mprint\u001b[39m(\u001b[38;5;124m\"\u001b[39m\u001b[38;5;124merror\u001b[39m\u001b[38;5;124m\"\u001b[39m)\n\u001b[1;32m      3\u001b[0m     exit()\n",
      "\u001b[0;31mNameError\u001b[0m: name 'cap' is not defined"
     ]
    }
   ],
   "source": [
    "cap = cv2.VideoCapture(\"/dev/video0\")\n",
    "\n",
    "if not cap.isOpened():\n",
    "    print(\"error\")\n",
    "    exit()\n",
    "\n",
    "while True:\n",
    "    ret, frame = cap.read()\n",
    "    if not ret:\n",
    "        print(\"error: failed to capture\")\n",
    "        break\n",
    "\n",
    "    cv2.imshow('cam feed', frame)\n",
    "\n",
    "    if cv2.waitKey(1) & 0xFF == ord('q'):\n",
    "        break\n",
    "\n",
    "cap.release()\n",
    "cap.destroyAllWindows()"
   ]
  },
  {
   "cell_type": "code",
   "execution_count": 13,
   "metadata": {},
   "outputs": [
    {
     "name": "stdout",
     "output_type": "stream",
     "text": [
      "Most Frequent Emotion: sad\n"
     ]
    },
    {
     "data": {
      "text/plain": [
       "'sad'"
      ]
     },
     "execution_count": 13,
     "metadata": {},
     "output_type": "execute_result"
    }
   ],
   "source": [
    "timedCameraRecognition(10, True)"
   ]
  },
  {
   "cell_type": "code",
   "execution_count": null,
   "metadata": {},
   "outputs": [],
   "source": []
  }
 ],
 "metadata": {
  "kernelspec": {
   "display_name": "Python 3",
   "language": "python",
   "name": "python3"
  },
  "language_info": {
   "codemirror_mode": {
    "name": "ipython",
    "version": 3
   },
   "file_extension": ".py",
   "mimetype": "text/x-python",
   "name": "python",
   "nbconvert_exporter": "python",
   "pygments_lexer": "ipython3",
   "version": "3.8.10"
  }
 },
 "nbformat": 4,
 "nbformat_minor": 2
}
